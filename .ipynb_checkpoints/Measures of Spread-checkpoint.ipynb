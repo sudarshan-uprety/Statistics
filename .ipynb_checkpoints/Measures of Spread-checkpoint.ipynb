{
 "cells": [
  {
   "cell_type": "code",
   "execution_count": 1,
   "id": "8d9c16ab",
   "metadata": {},
   "outputs": [],
   "source": [
    "import pandas as pd\n",
    "import numpy as np"
   ]
  },
  {
   "cell_type": "code",
   "execution_count": 2,
   "id": "f19075c0",
   "metadata": {},
   "outputs": [],
   "source": [
    "data=pd.read_csv('Iris.csv')"
   ]
  },
  {
   "cell_type": "code",
   "execution_count": 3,
   "id": "596e7cc9",
   "metadata": {},
   "outputs": [],
   "source": [
    "data=data.rename(columns={'SepalLengthCm':'SL','SepalWidthCm':'SW','PetalLengthCm':'PL','PetalWidthCm':'PW'})"
   ]
  },
  {
   "cell_type": "code",
   "execution_count": 4,
   "id": "dc328a5a",
   "metadata": {},
   "outputs": [],
   "source": [
    "iris_setosa=data[data['Species']=='Iris-setosa']\n",
    "iris_versicolor=data[data['Species']=='Iris-versicolor']\n",
    "iris_virginica=data[data['Species']=='Iris-virginica']"
   ]
  },
  {
   "cell_type": "markdown",
   "id": "edf18246",
   "metadata": {},
   "source": [
    "# Types of Measure of spread are"
   ]
  },
  {
   "cell_type": "markdown",
   "id": "fffa0b36",
   "metadata": {},
   "source": [
    "# 1. Range"
   ]
  },
  {
   "cell_type": "raw",
   "id": "d335cfc0",
   "metadata": {},
   "source": [
    "The range describes te difference between the largest and the smallest points in your data."
   ]
  },
  {
   "cell_type": "code",
   "execution_count": 5,
   "id": "a03f8d1b",
   "metadata": {},
   "outputs": [
    {
     "name": "stdout",
     "output_type": "stream",
     "text": [
      "The range is 0.8999999999999999\n"
     ]
    }
   ],
   "source": [
    "r=np.max(iris_setosa['PL'])-np.min(iris_setosa['PL'])\n",
    "print('The range is',r)"
   ]
  },
  {
   "cell_type": "markdown",
   "id": "89027005",
   "metadata": {},
   "source": [
    "# 2. Percentiles"
   ]
  },
  {
   "cell_type": "raw",
   "id": "6aade568",
   "metadata": {},
   "source": [
    "A percentiles is a measure used in stats indicating the value below which a given percentage of observation in a group of observation falls"
   ]
  },
  {
   "cell_type": "code",
   "execution_count": 6,
   "id": "45ea759e",
   "metadata": {},
   "outputs": [
    {
     "data": {
      "text/plain": [
       "1.7"
      ]
     },
     "execution_count": 6,
     "metadata": {},
     "output_type": "execute_result"
    }
   ],
   "source": [
    "np.percentile(iris_setosa['PL'],90)"
   ]
  },
  {
   "cell_type": "markdown",
   "id": "3aedc837",
   "metadata": {},
   "source": [
    "# 3. Quartiles"
   ]
  },
  {
   "cell_type": "raw",
   "id": "841a6506",
   "metadata": {},
   "source": [
    "Quartiles are the value that divide a list of numbers into quarters:\n",
    "* Put the list of numbers in orde\n",
    "* Then cut the list into four equals parts\n",
    "* The quartiles are at the cuts"
   ]
  },
  {
   "cell_type": "code",
   "execution_count": 7,
   "id": "f71199e9",
   "metadata": {},
   "outputs": [
    {
     "name": "stdout",
     "output_type": "stream",
     "text": [
      "1.4\n",
      "1.5\n",
      "1.5750000000000002\n",
      "1.9\n"
     ]
    }
   ],
   "source": [
    "print(np.percentile(iris_setosa['PL'],25))\n",
    "print(np.percentile(iris_setosa['PL'],50))\n",
    "print(np.percentile(iris_setosa['PL'],75))\n",
    "print(np.percentile(iris_setosa['PL'],100))"
   ]
  },
  {
   "cell_type": "markdown",
   "id": "32534150",
   "metadata": {},
   "source": [
    "# 4. Interquartile Range"
   ]
  },
  {
   "cell_type": "raw",
   "id": "fea2c75a",
   "metadata": {},
   "source": [
    "The interquartile range (IQR) is a measure of statistical dispersion between upper (75th) and lower (25th) quartiles."
   ]
  },
  {
   "cell_type": "code",
   "execution_count": 9,
   "id": "2819c436",
   "metadata": {},
   "outputs": [
    {
     "name": "stdout",
     "output_type": "stream",
     "text": [
      "The Inter Quartile Range is 0.17500000000000027\n"
     ]
    }
   ],
   "source": [
    "iqr=np.percentile(iris_setosa['PL'],75)-np.percentile(iris_setosa['PL'],25)\n",
    "print('The Inter Quartile Range is',iqr)"
   ]
  },
  {
   "cell_type": "markdown",
   "id": "fc32a374",
   "metadata": {},
   "source": [
    "# Mean Absolute Deviation"
   ]
  },
  {
   "cell_type": "raw",
   "id": "42db119b",
   "metadata": {},
   "source": [
    "The Absolute Deviation from mean also called Mean Absolute Deviation (MAD) describe the variation in the data set, in sense that it tells the average absolute distance of each data point in the set."
   ]
  },
  {
   "cell_type": "raw",
   "id": "fab07eda",
   "metadata": {},
   "source": [
    "Example\n",
    "\n",
    "2,5,1,6,7,3,11\n",
    "\n",
    "Mean is 5\n",
    "\n",
    "(|2-5| + |5-5| + |1-5| + |6-5| + | 7-5| + |3-5| + |11-5| )/7\n",
    "3+0+4+1+2+2+6=18/7=2.5"
   ]
  },
  {
   "cell_type": "markdown",
   "id": "3f5456fc",
   "metadata": {},
   "source": [
    "# Variance"
   ]
  },
  {
   "cell_type": "raw",
   "id": "37378010",
   "metadata": {},
   "source": [
    "Variance measure how far are data points spread out from mean."
   ]
  },
  {
   "cell_type": "raw",
   "id": "cd140625",
   "metadata": {},
   "source": [
    "Example\n",
    "\n",
    "2,5,1,6,7,3,11\n",
    "\n",
    "Mean is 5\n",
    "\n",
    "((2-5)^2 + (5-5)^2 + (1-5)^2 + (6-5)^2 + (7-5)^2 + (3-5)^2 + (11-5)^2 )/7\n",
    "9+0+16+14+4+36=70/7=10"
   ]
  },
  {
   "cell_type": "code",
   "execution_count": 10,
   "id": "d6a94c12",
   "metadata": {},
   "outputs": [
    {
     "data": {
      "text/plain": [
       "0.02950400000000001"
      ]
     },
     "execution_count": 10,
     "metadata": {},
     "output_type": "execute_result"
    }
   ],
   "source": [
    "np.var(iris_setosa['PL'])"
   ]
  },
  {
   "cell_type": "markdown",
   "id": "b7c43ac2",
   "metadata": {},
   "source": [
    "# Standard Deviation"
   ]
  },
  {
   "cell_type": "raw",
   "id": "f30f2825",
   "metadata": {},
   "source": [
    "The square root of variance is called Standard Deviation."
   ]
  },
  {
   "cell_type": "raw",
   "id": "f634025f",
   "metadata": {},
   "source": [
    "Example\n",
    "\n",
    "2,5,1,6,7,3,11\n",
    "\n",
    "Mean is 5\n",
    "\n",
    "((2-5)^2 + (5-5)^2 + (1-5)^2 + (6-5)^2 + (7-5)^2 + (3-5)^2 + (11-5)^2 )/7\n",
    "9+0+16+14+4+36=70/7=10\n",
    "SD=sqrt(10)=3.16"
   ]
  },
  {
   "cell_type": "code",
   "execution_count": 12,
   "id": "d691b95f",
   "metadata": {},
   "outputs": [
    {
     "data": {
      "text/plain": [
       "0.17176728442867115"
      ]
     },
     "execution_count": 12,
     "metadata": {},
     "output_type": "execute_result"
    }
   ],
   "source": [
    "np.std(iris_setosa['PL'])"
   ]
  },
  {
   "cell_type": "markdown",
   "id": "42d2e3af",
   "metadata": {},
   "source": [
    "# Median Absolute Deviation"
   ]
  },
  {
   "cell_type": "raw",
   "id": "62cf1215",
   "metadata": {},
   "source": [
    "MAD is the median of all the number obtained from sibtracting and calculating the absolute value of every observation with the median"
   ]
  },
  {
   "cell_type": "raw",
   "id": "f2b36071",
   "metadata": {},
   "source": [
    "Example\n",
    "\n",
    "1,3,5,5,7,8,9\n",
    "\n",
    "Mean is 6\n",
    "\n",
    "|1-6| , |3-6| , |5-6| , |5-6| , | 7-6| , |8-6| , |9-6| \n",
    "\n",
    "5 , 3 , 1 , 0 , 1 , 2 , 3\n",
    "\n",
    "0 , 1 , 1 , 2 , 3 , 3 , 5\n",
    "\n",
    "Median Absolute Deviation is 2"
   ]
  },
  {
   "cell_type": "code",
   "execution_count": 14,
   "id": "a20b8d2f",
   "metadata": {},
   "outputs": [
    {
     "data": {
      "text/plain": [
       "2.965204437011204"
      ]
     },
     "execution_count": 14,
     "metadata": {},
     "output_type": "execute_result"
    }
   ],
   "source": [
    "from statsmodels import robust\n",
    "robust.mad(np.array([1,3,5,6,7,8,9]))"
   ]
  },
  {
   "cell_type": "code",
   "execution_count": null,
   "id": "a6c71815",
   "metadata": {},
   "outputs": [],
   "source": []
  }
 ],
 "metadata": {
  "kernelspec": {
   "display_name": "Python 3 (ipykernel)",
   "language": "python",
   "name": "python3"
  },
  "language_info": {
   "codemirror_mode": {
    "name": "ipython",
    "version": 3
   },
   "file_extension": ".py",
   "mimetype": "text/x-python",
   "name": "python",
   "nbconvert_exporter": "python",
   "pygments_lexer": "ipython3",
   "version": "3.9.12"
  }
 },
 "nbformat": 4,
 "nbformat_minor": 5
}
